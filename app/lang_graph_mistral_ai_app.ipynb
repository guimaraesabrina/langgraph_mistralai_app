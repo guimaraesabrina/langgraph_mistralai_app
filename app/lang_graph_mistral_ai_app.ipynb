{
  "nbformat": 4,
  "nbformat_minor": 0,
  "metadata": {
    "colab": {
      "provenance": [],
      "authorship_tag": "ABX9TyPgJyoaQqtvAMsKogTulViD",
      "include_colab_link": true
    },
    "kernelspec": {
      "name": "python3",
      "display_name": "Python 3"
    },
    "language_info": {
      "name": "python"
    }
  },
  "cells": [
    {
      "cell_type": "markdown",
      "metadata": {
        "id": "view-in-github",
        "colab_type": "text"
      },
      "source": [
        "<a href=\"https://colab.research.google.com/github/guimaraesabrina/langgraph_mistralai_app/blob/main/app/lang_graph_mistral_ai_app.ipynb\" target=\"_parent\"><img src=\"https://colab.research.google.com/assets/colab-badge.svg\" alt=\"Open In Colab\"/></a>"
      ]
    },
    {
      "cell_type": "code",
      "source": [
        "pip install -U langgraph langchain-core langchain-mistralai"
      ],
      "metadata": {
        "id": "zYH9Cms-MbHU"
      },
      "execution_count": null,
      "outputs": []
    },
    {
      "cell_type": "code",
      "source": [
        "import json\n",
        "import os\n",
        "\n",
        "from langchain_core.messages import HumanMessage\n",
        "from langchain_mistralai.chat_models import ChatMistralAI\n",
        "from langgraph.graph import END, MessageGraph"
      ],
      "metadata": {
        "id": "_EQnTH35NDbc"
      },
      "execution_count": null,
      "outputs": []
    },
    {
      "cell_type": "code",
      "source": [
        "with open('mistral_api.json') as data:\n",
        "  data = json.load(data)"
      ],
      "metadata": {
        "id": "AzugLswxSjtt"
      },
      "execution_count": null,
      "outputs": []
    },
    {
      "cell_type": "code",
      "source": [
        "api_key = data['api_key']"
      ],
      "metadata": {
        "id": "GH57uxIpTAWA"
      },
      "execution_count": null,
      "outputs": []
    },
    {
      "cell_type": "code",
      "source": [
        "model_mistral_small = \"mistral-small-latest\"\n",
        "model_mistral_medium = \"mistral-medium-latest\"\n",
        "model_mistral_large = \"mistral-large-latest\""
      ],
      "metadata": {
        "id": "Fx_cUutcQp4k"
      },
      "execution_count": null,
      "outputs": []
    },
    {
      "cell_type": "code",
      "source": [
        "model = ChatMistralAI(api_key=api_key, model=model_mistral_small)"
      ],
      "metadata": {
        "id": "RUfTUZJJNRrO"
      },
      "execution_count": null,
      "outputs": []
    },
    {
      "cell_type": "code",
      "source": [
        "print(model)"
      ],
      "metadata": {
        "id": "1jheCuhyQxgX"
      },
      "execution_count": null,
      "outputs": []
    }
  ]
}