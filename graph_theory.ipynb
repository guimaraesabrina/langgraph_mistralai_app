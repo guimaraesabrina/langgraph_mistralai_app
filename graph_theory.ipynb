{
  "nbformat": 4,
  "nbformat_minor": 0,
  "metadata": {
    "colab": {
      "provenance": [],
      "authorship_tag": "ABX9TyNLVYW+Mhtg4tMgn8mrpHzz"
    },
    "kernelspec": {
      "name": "python3",
      "display_name": "Python 3"
    },
    "language_info": {
      "name": "python"
    }
  },
  "cells": [
    {
      "cell_type": "markdown",
      "source": [
        "# Teoria dos Grafos: A quick review"
      ],
      "metadata": {
        "id": "-bwSTQLZjkLm"
      }
    },
    {
      "cell_type": "markdown",
      "source": [
        "# Introdução"
      ],
      "metadata": {
        "id": "4DUPTdutkEzn"
      }
    },
    {
      "cell_type": "markdown",
      "source": [
        "- Um grafo é uma estrutura composta por vértices (ou nós) e arestas (ou arcos) que conectam pares desses vértices.\n",
        "- Os grafos são ferramentas poderosas para modelar diversos problemas do mundo real, como redes sociais, sistemas de transportes, circuitos elétricos, e muito mais."
      ],
      "metadata": {
        "id": "9htXZcrwj79w"
      }
    },
    {
      "cell_type": "markdown",
      "source": [
        "# Tipos de grafos"
      ],
      "metadata": {
        "id": "hAa0DHlkkHrY"
      }
    },
    {
      "cell_type": "markdown",
      "source": [
        "- Grafos Simples: Não têm laços (arestas que conectam um vértice a ele mesmo) e não têm arestas múltiplas entre o mesmo par de vértices.\n",
        "- Grafos Direcionados: As arestas têm uma direção associada, indo de um vértice para outro.\n",
        "- Grafos Ponderados: As arestas têm pesos associados, que podem representar distâncias, custos, ou qualquer outra métrica quantificável.\n",
        "- Grafos Multigrafos: Permitem múltiplas arestas entre o mesmo par de vértices."
      ],
      "metadata": {
        "id": "4fAllnJdkKiy"
      }
    },
    {
      "cell_type": "markdown",
      "source": [
        "# Conceitos Fundamentais\n",
        "- Vértice Adjacente: Dois vértices são adjacentes se existe uma aresta que os conecta.\n",
        "- Grau de um Vértice: Número de arestas que incidem sobre um vértice. Em grafos direcionados, temos o grau de entrada e o grau de saída.\n",
        "- Caminho: Sequência de vértices onde cada par consecutivo é conectado por uma aresta.\n",
        "- Ciclo: Caminho que começa e termina no mesmo vértice.\n",
        "- Conectividade: Um grafo é dito conectado se existe um caminho entre qualquer par de vértices."
      ],
      "metadata": {
        "id": "r1srvWAvkRPK"
      }
    },
    {
      "cell_type": "markdown",
      "source": [
        "# Propiedades"
      ],
      "metadata": {
        "id": "yGw-kc7lkZgw"
      }
    },
    {
      "cell_type": "markdown",
      "source": [
        "- Subgrafos: Um subgrafo é formado por um subconjunto dos vértices de um grafo e algumas das arestas que os conectam.\n",
        "- Grafos Completos: Todos os pares de vértices são conectados por uma aresta.\n",
        "- Grafos Bipartidos: Os vértices podem ser divididos em dois conjuntos tais que não existem arestas conectando vértices dentro do mesmo conjunto."
      ],
      "metadata": {
        "id": "6WFEur3bkbcG"
      }
    }
  ]
}