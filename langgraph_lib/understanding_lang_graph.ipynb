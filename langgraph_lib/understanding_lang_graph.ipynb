{
  "nbformat": 4,
  "nbformat_minor": 0,
  "metadata": {
    "colab": {
      "provenance": [],
      "authorship_tag": "ABX9TyM+KAIOqDWyYCRqGLj5TbVM",
      "include_colab_link": true
    },
    "kernelspec": {
      "name": "python3",
      "display_name": "Python 3"
    },
    "language_info": {
      "name": "python"
    }
  },
  "cells": [
    {
      "cell_type": "markdown",
      "metadata": {
        "id": "view-in-github",
        "colab_type": "text"
      },
      "source": [
        "<a href=\"https://colab.research.google.com/github/guimaraesabrina/langgraph_mistralai_app/blob/main/langgraph/understanding_lang_graph.ipynb\" target=\"_parent\"><img src=\"https://colab.research.google.com/assets/colab-badge.svg\" alt=\"Open In Colab\"/></a>"
      ]
    },
    {
      "cell_type": "markdown",
      "source": [
        "# Understanding LangGraph Library\n"
      ],
      "metadata": {
        "id": "eunCd9fVeeBX"
      }
    },
    {
      "cell_type": "markdown",
      "source": [
        "![](https://media.licdn.com/dms/image/D5612AQHeEfH-NRFPPA/article-cover_image-shrink_720_1280/0/1707116022797?e=2147483647&v=beta&t=BuQso-5MAq_O717ugnQW3L1nm_Npua3F-pf91E39RII)"
      ],
      "metadata": {
        "id": "u-rVa902eZ5D"
      }
    },
    {
      "cell_type": "markdown",
      "source": [
        "# Introduction"
      ],
      "metadata": {
        "id": "s8-Qfwl0fPiG"
      }
    },
    {
      "cell_type": "markdown",
      "source": [
        "- This new library, introduced in January 2024, is called LangGraph and, as the name suggests, it’s based on the mathematical object of graph as representative framework for LLM-powered applications.\n",
        "- It's necessary understand the concept of graph and why it is a well-suited framework for cyclic chains."
      ],
      "metadata": {
        "id": "GZk7ghqset4c"
      }
    },
    {
      "cell_type": "markdown",
      "source": [
        "# Graphs"
      ],
      "metadata": {
        "id": "tAhXZ-9BfSt8"
      }
    },
    {
      "cell_type": "markdown",
      "source": [
        "![](https://acm-itea.org/wp-content/uploads/2021/04/Grafos.png)"
      ],
      "metadata": {
        "id": "LUxMlh0nfd2A"
      }
    },
    {
      "cell_type": "markdown",
      "source": [
        "_A graph is a representation of a set of objects where some pairs of the objects are connected by links. These links are often called edges or arcs, and the objects they connect are called vertices or nodes. Graphs are used to model relationships between objects, such as social networks, road networks, or connections between molecules in chemistry._"
      ],
      "metadata": {
        "id": "t0guLgE5fMk5"
      }
    }
  ]
}